{
 "cells": [
  {
   "cell_type": "code",
   "execution_count": 1,
   "id": "2895a5e2",
   "metadata": {},
   "outputs": [
    {
     "name": "stdout",
     "output_type": "stream",
     "text": [
      "Welcome to JupyROOT 6.28/00\n"
     ]
    }
   ],
   "source": [
    "import sys, os\n",
    "import ROOT\n",
    "from array import array\n",
    "import CMS_lumi, tdrstyle"
   ]
  },
  {
   "cell_type": "code",
   "execution_count": 2,
   "id": "8f940e48",
   "metadata": {},
   "outputs": [],
   "source": [
    "ROOT.gStyle.SetOptStat(0)\n",
    "ROOT.gStyle.SetOptFit(1)\n",
    "ROOT.gStyle.SetOptTitle(0)\n",
    "ROOT.gStyle.SetLabelSize(0.05,'X')\n",
    "ROOT.gStyle.SetLabelSize(0.05,'Y')\n",
    "ROOT.gStyle.SetTitleSize(0.06,'X')\n",
    "ROOT.gStyle.SetTitleSize(0.06,'Y')\n",
    "ROOT.gStyle.SetTitleOffset(0.8,'X')\n",
    "ROOT.gStyle.SetTitleOffset(0.8,'Y')\n",
    "ROOT.gStyle.SetLegendFont(42)\n",
    "ROOT.gStyle.SetLegendTextSize(0.038)\n",
    "ROOT.gStyle.SetPadTopMargin(0.07)\n",
    "ROOT.gROOT.SetBatch(True)\n",
    "ROOT.gErrorIgnoreLevel = ROOT.kWarning"
   ]
  },
  {
   "cell_type": "code",
   "execution_count": 65,
   "id": "0bc996b2",
   "metadata": {},
   "outputs": [],
   "source": [
    "inputdir = '/eos/user/f/fcetorel/LabCrystalsAndFilters_June23/Transmission/'\n",
    "outdir = '/eos/user/f/fcetorel/www/SCEPCal_RD/LabMeasurments_June23/Transmission/'\n",
    "filters = ['IF_2-11-3-3-1-10', 'IF_2-5-416-53-2-10', 'IF_2-5-453-26-3-8', 'IF_2-5-461-20-2-36', 'IF_2-5-462-29-1-21', 'HoyaU330_Black', 'HoyaO56_Orange']\n",
    "crystals = ['BSO', 'BGO', 'PWO']"
   ]
  },
  {
   "cell_type": "code",
   "execution_count": 96,
   "id": "a757f63e",
   "metadata": {},
   "outputs": [],
   "source": [
    "crystals = True\n",
    "\n",
    "fil = 'PWO' #change to select the filter from list above\n",
    "#fil = 'IF_2-5-462-29-1-21'"
   ]
  },
  {
   "cell_type": "code",
   "execution_count": 97,
   "id": "419b9400",
   "metadata": {},
   "outputs": [],
   "source": [
    "'''\n",
    "kWhite  = 0,   kBlack  = 1,   kGray    = 920,  kRed    = 632,  kGreen  = 416,\n",
    "kBlue   = 600, kYellow = 400, kMagenta = 616,  kCyan   = 432,  kOrange = 800,\n",
    "kSpring = 820, kTeal   = 840, kAzure   =  860, kViolet = 880,  kPink   = 900\n",
    "'''\n",
    "basecols = [632+1, 416+2, 601, 800 , 616+2 , 860 + 3 , 900 +1]\n"
   ]
  },
  {
   "cell_type": "code",
   "execution_count": 98,
   "id": "265d13ec",
   "metadata": {},
   "outputs": [],
   "source": [
    "datadict = {}\n",
    "histodict = {}\n",
    "cols = {}\n",
    "\n",
    "extralabels = ['0deg','20deg','40deg']\n",
    "if 'Hoya' in fil: extralabels = ['0deg','20deg','40deg', '60deg']\n",
    "\n",
    "dimension = {\n",
    "#'BGO': ['1x1x1','0.8x0.8x5', '1.2x1.2x5', '1x1x5', '1x1x13', '1x1x16'],\n",
    "'BGO': ['0.8x0.8x5', '1x1x5', '1.2x1.2x5'],\n",
    "#'BGO': ['1x1x1', '1x1x5', '1x1x13'],\n",
    "'BSO': ['1x1x1', '1x1x5', '1x1x13'],\n",
    "'PWO': ['1x1x1', '1x1x5', '1x1x13'],   \n",
    "}\n",
    "\n",
    "if crystals:\n",
    "    extralabels = dimension[fil]\n",
    "    \n",
    "for i,exlab in enumerate(extralabels):\n",
    "    cols['%s_%s'%(fil, exlab)] = basecols[i] \n",
    "    \n",
    "    with open('%s/%s_%s.Sample.Raw.asc'%(inputdir, fil, exlab)) as f: \n",
    "        lines_after_90 = f.readlines()[90:]\n",
    "        #print (lines_after_90)\n",
    "    x = []\n",
    "    y = []\n",
    "    for i,l in enumerate(lines_after_90):\n",
    "        mydata = l.replace('\\n', '').split('\\t')\n",
    "        #print (mydata)\n",
    "        x.append(float(mydata[0]))   \n",
    "        y.append(float(mydata[1]))\n",
    "        #datadict[float(mydata[0])] = float(mydata[1])\n",
    "    datadict['%s_%s'%(fil, exlab)] = [x, y] "
   ]
  },
  {
   "cell_type": "code",
   "execution_count": 99,
   "id": "693423cf",
   "metadata": {},
   "outputs": [],
   "source": [
    "for key, datas in datadict.items():\n",
    "    histo = ROOT.TGraph(len(x), array(\"f\", datas[0]), array(\"f\", datas[1]) )\n",
    "    histo.SetName(key)\n",
    "    histodict [key] = histo"
   ]
  },
  {
   "cell_type": "code",
   "execution_count": 100,
   "id": "8d70beb0",
   "metadata": {},
   "outputs": [
    {
     "name": "stderr",
     "output_type": "stream",
     "text": [
      "Warning in <TCanvas::Delete()>: may not use this method\n"
     ]
    }
   ],
   "source": [
    "#Now plotting\n",
    "c = ROOT.TCanvas(\"\", \"\", 1200, 800)\n",
    "c.cd()\n",
    "\n",
    "hdummy = ROOT.TH2F('hdummy','',100,200,800,100,0,100.)\n",
    "hdummy.GetXaxis().SetTitle('Wavelenght (nm)')\n",
    "hdummy.GetYaxis().SetTitle('Transmission (%)')\n",
    "\n",
    "hdummy.Draw()\n",
    "\n",
    "if 'Orange' in fil: \n",
    "    leg = ROOT.TLegend(0.15,0.8,0.6,0.92)\n",
    "    #leg.SetNColumns(2)\n",
    "    hdummy.GetYaxis().SetRangeUser(0,110)\n",
    "    \n",
    "elif 'Black' in fil: \n",
    "    leg = ROOT.TLegend(0.5,0.8,0.8,0.92)\n",
    "    #leg.SetNColumns(2)\n",
    "    hdummy.GetYaxis().SetRangeUser(0,110)\n",
    "elif crystals: \n",
    "    leg = ROOT.TLegend(0.5,0.2,0.8,0.4)\n",
    "    #leg.SetNColumns(2)\n",
    "    hdummy.GetYaxis().SetRangeUser(0,110)\n",
    "    \n",
    "\n",
    "else: leg = ROOT.TLegend(0.55,0.6,0.90,0.75)\n",
    "leg.SetBorderSize(0)\n",
    "leg.SetFillStyle(0)\n",
    "\n",
    "\n",
    "for key,histo in histodict.items():\n",
    "\n",
    "    histo.SetMarkerColor(cols[key])\n",
    "    histo.SetLineColor(cols[key])\n",
    "\n",
    "    histo.SetMarkerStyle(22)\n",
    "    histo.Draw(\"PL same\")\n",
    "    leg.AddEntry(histo, key, 'l')\n",
    "    \n",
    "leg.Draw(\"same\")\n",
    "c.SaveAs(\"%s/%s.png\"%(outdir, fil))\n",
    "\n",
    "c.Delete()\n",
    "hdummy.Delete()"
   ]
  },
  {
   "cell_type": "code",
   "execution_count": null,
   "id": "784f95bf",
   "metadata": {},
   "outputs": [],
   "source": []
  },
  {
   "cell_type": "code",
   "execution_count": null,
   "id": "e1b830ee",
   "metadata": {},
   "outputs": [],
   "source": []
  },
  {
   "cell_type": "code",
   "execution_count": null,
   "id": "3825f0f3",
   "metadata": {},
   "outputs": [],
   "source": []
  },
  {
   "cell_type": "code",
   "execution_count": null,
   "id": "3c0bf0ba",
   "metadata": {},
   "outputs": [],
   "source": []
  },
  {
   "cell_type": "code",
   "execution_count": null,
   "id": "b71525b9",
   "metadata": {},
   "outputs": [],
   "source": []
  }
 ],
 "metadata": {
  "@webio": {
   "lastCommId": null,
   "lastKernelId": null
  },
  "kernelspec": {
   "display_name": "Python 3",
   "language": "python",
   "name": "python3"
  },
  "language_info": {
   "codemirror_mode": {
    "name": "ipython",
    "version": 3
   },
   "file_extension": ".py",
   "mimetype": "text/x-python",
   "name": "python",
   "nbconvert_exporter": "python",
   "pygments_lexer": "ipython3",
   "version": "3.9.12"
  }
 },
 "nbformat": 4,
 "nbformat_minor": 5
}
